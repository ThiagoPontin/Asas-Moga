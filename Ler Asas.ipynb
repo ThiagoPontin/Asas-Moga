{
 "cells": [
  {
   "cell_type": "code",
   "execution_count": 1,
   "metadata": {},
   "outputs": [],
   "source": [
    "import pandas as pd\n",
    "import os\n",
    "import re"
   ]
  },
  {
   "cell_type": "code",
   "execution_count": 2,
   "metadata": {},
   "outputs": [],
   "source": [
    "df = pd.DataFrame(columns=[\"Area\", \"Corda\", \"Envergadura\", \"Geracao\", \"Pontuacao\", \"File\"])\n",
    "\n",
    "for filename in os.listdir(\"asas_todas\"):\n",
    "    if filename.endswith(\".avl\"):\n",
    "        with open(f\"asas_todas/{filename}\",'r') as asa:\n",
    "            texto_asa = asa.readlines()\n",
    "            dados = re.findall(r\"\\d\\.\\d\\d\\d\\d\\d\\d\",texto_asa[3].strip(\"\\n\"))\n",
    "            dados.append(filename.split(\"_\")[1]) # Geracao\n",
    "            dados.append(texto_asa[-1][1:]) # Pontuacao\n",
    "            dados.append(filename)\n",
    "            df = pd.concat([pd.DataFrame([dados],columns=[\"Area\", \"Corda\", \"Envergadura\", \"Geracao\", \"Pontuacao\", \"File\"]),df], axis=0)\n",
    "\n",
    "            df[\"Area\"] = pd.to_numeric(df[\"Area\"])\n",
    "df[\"Corda\"] = pd.to_numeric(df[\"Corda\"])\n",
    "df[\"Envergadura\"] = pd.to_numeric(df[\"Envergadura\"])\n",
    "df[\"Geracao\"] = pd.to_numeric(df[\"Geracao\"])\n",
    "df[\"Pontuacao\"] = pd.to_numeric(df[\"Pontuacao\"])\n",
    "df = df.reset_index(drop=True)"
   ]
  },
  {
   "cell_type": "code",
   "execution_count": 3,
   "metadata": {},
   "outputs": [
    {
     "data": {
      "text/html": [
       "<div>\n",
       "<style scoped>\n",
       "    .dataframe tbody tr th:only-of-type {\n",
       "        vertical-align: middle;\n",
       "    }\n",
       "\n",
       "    .dataframe tbody tr th {\n",
       "        vertical-align: top;\n",
       "    }\n",
       "\n",
       "    .dataframe thead th {\n",
       "        text-align: right;\n",
       "    }\n",
       "</style>\n",
       "<table border=\"1\" class=\"dataframe\">\n",
       "  <thead>\n",
       "    <tr style=\"text-align: right;\">\n",
       "      <th></th>\n",
       "      <th>Area</th>\n",
       "      <th>Corda</th>\n",
       "      <th>Envergadura</th>\n",
       "      <th>Geracao</th>\n",
       "      <th>Pontuacao</th>\n",
       "      <th>File</th>\n",
       "    </tr>\n",
       "  </thead>\n",
       "  <tbody>\n",
       "    <tr>\n",
       "      <th>0</th>\n",
       "      <td>1.965588</td>\n",
       "      <td>0.253922</td>\n",
       "      <td>9.7068</td>\n",
       "      <td>9</td>\n",
       "      <td>15.813956</td>\n",
       "      <td>geracao_9_asa1.9655884799999999.avl</td>\n",
       "    </tr>\n",
       "    <tr>\n",
       "      <th>1</th>\n",
       "      <td>1.491251</td>\n",
       "      <td>0.277740</td>\n",
       "      <td>7.6224</td>\n",
       "      <td>9</td>\n",
       "      <td>22.044153</td>\n",
       "      <td>geracao_9_asa1.4912505600000001.avl</td>\n",
       "    </tr>\n",
       "    <tr>\n",
       "      <th>2</th>\n",
       "      <td>1.460775</td>\n",
       "      <td>0.267658</td>\n",
       "      <td>7.3128</td>\n",
       "      <td>9</td>\n",
       "      <td>22.063949</td>\n",
       "      <td>geracao_9_asa1.46077476.avl</td>\n",
       "    </tr>\n",
       "    <tr>\n",
       "      <th>3</th>\n",
       "      <td>1.446377</td>\n",
       "      <td>0.227499</td>\n",
       "      <td>7.3416</td>\n",
       "      <td>9</td>\n",
       "      <td>22.264136</td>\n",
       "      <td>geracao_9_asa1.4463773100000001.avl</td>\n",
       "    </tr>\n",
       "    <tr>\n",
       "      <th>4</th>\n",
       "      <td>1.442041</td>\n",
       "      <td>0.207030</td>\n",
       "      <td>8.0328</td>\n",
       "      <td>9</td>\n",
       "      <td>22.394733</td>\n",
       "      <td>geracao_9_asa1.4420408099999997.avl</td>\n",
       "    </tr>\n",
       "    <tr>\n",
       "      <th>...</th>\n",
       "      <td>...</td>\n",
       "      <td>...</td>\n",
       "      <td>...</td>\n",
       "      <td>...</td>\n",
       "      <td>...</td>\n",
       "      <td>...</td>\n",
       "    </tr>\n",
       "    <tr>\n",
       "      <th>946</th>\n",
       "      <td>1.065850</td>\n",
       "      <td>0.263054</td>\n",
       "      <td>4.4700</td>\n",
       "      <td>0</td>\n",
       "      <td>17.834970</td>\n",
       "      <td>geracao_0_asa1.0658500000000002.avl</td>\n",
       "    </tr>\n",
       "    <tr>\n",
       "      <th>947</th>\n",
       "      <td>0.995691</td>\n",
       "      <td>0.236765</td>\n",
       "      <td>4.4140</td>\n",
       "      <td>0</td>\n",
       "      <td>17.021045</td>\n",
       "      <td>geracao_0_asa0.9956910000000001.avl</td>\n",
       "    </tr>\n",
       "    <tr>\n",
       "      <th>948</th>\n",
       "      <td>0.910775</td>\n",
       "      <td>0.206982</td>\n",
       "      <td>4.4540</td>\n",
       "      <td>0</td>\n",
       "      <td>16.217269</td>\n",
       "      <td>geracao_0_asa0.9107749999999998.avl</td>\n",
       "    </tr>\n",
       "    <tr>\n",
       "      <th>949</th>\n",
       "      <td>0.805856</td>\n",
       "      <td>0.309065</td>\n",
       "      <td>2.6724</td>\n",
       "      <td>0</td>\n",
       "      <td>11.319888</td>\n",
       "      <td>geracao_0_asa0.8058555000000001.avl</td>\n",
       "    </tr>\n",
       "    <tr>\n",
       "      <th>950</th>\n",
       "      <td>0.804684</td>\n",
       "      <td>0.313153</td>\n",
       "      <td>2.6820</td>\n",
       "      <td>0</td>\n",
       "      <td>11.310444</td>\n",
       "      <td>geracao_0_asa0.804684.avl</td>\n",
       "    </tr>\n",
       "  </tbody>\n",
       "</table>\n",
       "<p>951 rows × 6 columns</p>\n",
       "</div>"
      ],
      "text/plain": [
       "         Area     Corda  Envergadura  Geracao  Pontuacao  \\\n",
       "0    1.965588  0.253922       9.7068        9  15.813956   \n",
       "1    1.491251  0.277740       7.6224        9  22.044153   \n",
       "2    1.460775  0.267658       7.3128        9  22.063949   \n",
       "3    1.446377  0.227499       7.3416        9  22.264136   \n",
       "4    1.442041  0.207030       8.0328        9  22.394733   \n",
       "..        ...       ...          ...      ...        ...   \n",
       "946  1.065850  0.263054       4.4700        0  17.834970   \n",
       "947  0.995691  0.236765       4.4140        0  17.021045   \n",
       "948  0.910775  0.206982       4.4540        0  16.217269   \n",
       "949  0.805856  0.309065       2.6724        0  11.319888   \n",
       "950  0.804684  0.313153       2.6820        0  11.310444   \n",
       "\n",
       "                                    File  \n",
       "0    geracao_9_asa1.9655884799999999.avl  \n",
       "1    geracao_9_asa1.4912505600000001.avl  \n",
       "2            geracao_9_asa1.46077476.avl  \n",
       "3    geracao_9_asa1.4463773100000001.avl  \n",
       "4    geracao_9_asa1.4420408099999997.avl  \n",
       "..                                   ...  \n",
       "946  geracao_0_asa1.0658500000000002.avl  \n",
       "947  geracao_0_asa0.9956910000000001.avl  \n",
       "948  geracao_0_asa0.9107749999999998.avl  \n",
       "949  geracao_0_asa0.8058555000000001.avl  \n",
       "950            geracao_0_asa0.804684.avl  \n",
       "\n",
       "[951 rows x 6 columns]"
      ]
     },
     "execution_count": 3,
     "metadata": {},
     "output_type": "execute_result"
    }
   ],
   "source": [
    "df"
   ]
  },
  {
   "cell_type": "code",
   "execution_count": 13,
   "metadata": {},
   "outputs": [
    {
     "data": {
      "text/plain": [
       "<AxesSubplot:xlabel='Geracao'>"
      ]
     },
     "execution_count": 13,
     "metadata": {},
     "output_type": "execute_result"
    },
    {
     "data": {
      "image/png": "[encoded data removed]",
      "text/plain": [
       "<Figure size 432x288 with 1 Axes>"
      ]
     },
     "metadata": {
      "needs_background": "light"
     },
     "output_type": "display_data"
    }
   ],
   "source": [
    "df.groupby(\"Geracao\").count()[\"Area\"].plot()"
   ]
  },
  {
   "cell_type": "code",
   "execution_count": 16,
   "metadata": {},
   "outputs": [
    {
     "data": {
      "text/plain": [
       "<AxesSubplot:xlabel='Geracao'>"
      ]
     },
     "execution_count": 16,
     "metadata": {},
     "output_type": "execute_result"
    },
    {
     "data": {
      "image/png": "[encoded data removed]",
      "text/plain": [
       "<Figure size 432x288 with 1 Axes>"
      ]
     },
     "metadata": {
      "needs_background": "light"
     },
     "output_type": "display_data"
    }
   ],
   "source": [
    "df.groupby(\"Geracao\").mean()[\"Area\"].plot()"
   ]
  },
  {
   "cell_type": "code",
   "execution_count": 17,
   "metadata": {},
   "outputs": [
    {
     "data": {
      "text/plain": [
       "<AxesSubplot:xlabel='Geracao'>"
      ]
     },
     "execution_count": 17,
     "metadata": {},
     "output_type": "execute_result"
    },
    {
     "data": {
      "image/png": "[encoded data removed]",
      "text/plain": [
       "<Figure size 432x288 with 1 Axes>"
      ]
     },
     "metadata": {
      "needs_background": "light"
     },
     "output_type": "display_data"
    }
   ],
   "source": [
    "df.groupby(\"Geracao\").mean()[\"Envergadura\"].plot()"
   ]
  },
  {
   "cell_type": "code",
   "execution_count": 18,
   "metadata": {},
   "outputs": [
    {
     "data": {
      "text/html": [
       "<div>\n",
       "<style scoped>\n",
       "    .dataframe tbody tr th:only-of-type {\n",
       "        vertical-align: middle;\n",
       "    }\n",
       "\n",
       "    .dataframe tbody tr th {\n",
       "        vertical-align: top;\n",
       "    }\n",
       "\n",
       "    .dataframe thead th {\n",
       "        text-align: right;\n",
       "    }\n",
       "</style>\n",
       "<table border=\"1\" class=\"dataframe\">\n",
       "  <thead>\n",
       "    <tr style=\"text-align: right;\">\n",
       "      <th></th>\n",
       "      <th>Area</th>\n",
       "      <th>Corda</th>\n",
       "      <th>Envergadura</th>\n",
       "      <th>Geracao</th>\n",
       "      <th>Pontuacao</th>\n",
       "      <th>File</th>\n",
       "    </tr>\n",
       "  </thead>\n",
       "  <tbody>\n",
       "    <tr>\n",
       "      <th>357</th>\n",
       "      <td>1.393606</td>\n",
       "      <td>0.253316</td>\n",
       "      <td>8.1948</td>\n",
       "      <td>299</td>\n",
       "      <td>22.685496</td>\n",
       "      <td>geracao_299_asa1.3936063500000002.avl</td>\n",
       "    </tr>\n",
       "    <tr>\n",
       "      <th>358</th>\n",
       "      <td>1.384939</td>\n",
       "      <td>0.252827</td>\n",
       "      <td>8.1948</td>\n",
       "      <td>299</td>\n",
       "      <td>22.731844</td>\n",
       "      <td>geracao_299_asa1.3849394700000002.avl</td>\n",
       "    </tr>\n",
       "    <tr>\n",
       "      <th>359</th>\n",
       "      <td>0.954829</td>\n",
       "      <td>0.255715</td>\n",
       "      <td>8.1948</td>\n",
       "      <td>299</td>\n",
       "      <td>12.875604</td>\n",
       "      <td>geracao_299_asa0.95482875.avl</td>\n",
       "    </tr>\n",
       "  </tbody>\n",
       "</table>\n",
       "</div>"
      ],
      "text/plain": [
       "         Area     Corda  Envergadura  Geracao  Pontuacao  \\\n",
       "357  1.393606  0.253316       8.1948      299  22.685496   \n",
       "358  1.384939  0.252827       8.1948      299  22.731844   \n",
       "359  0.954829  0.255715       8.1948      299  12.875604   \n",
       "\n",
       "                                      File  \n",
       "357  geracao_299_asa1.3936063500000002.avl  \n",
       "358  geracao_299_asa1.3849394700000002.avl  \n",
       "359          geracao_299_asa0.95482875.avl  "
      ]
     },
     "execution_count": 18,
     "metadata": {},
     "output_type": "execute_result"
    }
   ],
   "source": [
    "df[df[\"Geracao\"]==299]"
   ]
  },
  {
   "cell_type": "code",
   "execution_count": 25,
   "metadata": {},
   "outputs": [
    {
     "data": {
      "text/plain": [
       "<AxesSubplot:xlabel='Geracao'>"
      ]
     },
     "execution_count": 25,
     "metadata": {},
     "output_type": "execute_result"
    },
    {
     "data": {
      "image/png": "[encoded data removed]",
      "text/plain": [
       "<Figure size 432x288 with 1 Axes>"
      ]
     },
     "metadata": {
      "needs_background": "light"
     },
     "output_type": "display_data"
    }
   ],
   "source": [
    "df.groupby(\"Geracao\").max()[\"Pontuacao\"].plot()"
   ]
  },
  {
   "cell_type": "code",
   "execution_count": null,
   "metadata": {},
   "outputs": [],
   "source": []
  }
 ],
 "metadata": {
  "kernelspec": {
   "display_name": "Python 3",
   "language": "python",
   "name": "python3"
  },
  "language_info": {
   "codemirror_mode": {
    "name": "ipython",
    "version": 3
   },
   "file_extension": ".py",
   "mimetype": "text/x-python",
   "name": "python",
   "nbconvert_exporter": "python",
   "pygments_lexer": "ipython3",
   "version": "3.8.5"
  }
 },
 "nbformat": 4,
 "nbformat_minor": 4
}
